{
 "cells": [
  {
   "cell_type": "code",
   "execution_count": 1,
   "id": "cba8329d",
   "metadata": {},
   "outputs": [
    {
     "data": {
      "text/plain": [
       "True"
      ]
     },
     "execution_count": 1,
     "metadata": {},
     "output_type": "execute_result"
    }
   ],
   "source": [
    "from dotenv import load_dotenv\n",
    "load_dotenv()"
   ]
  },
  {
   "cell_type": "code",
   "execution_count": 2,
   "id": "cb486367",
   "metadata": {},
   "outputs": [],
   "source": [
    "from langchain_chroma import Chroma\n",
    "from langchain_upstage import UpstageEmbeddings\n",
    "\n",
    "embedding_function = UpstageEmbeddings(\n",
    "    model=\"embedding-query\"\n",
    ")\n",
    "\n",
    "vector_store = Chroma(\n",
    "    embedding_function=embedding_function,\n",
    "    collection_name=\"income_tax_collection\",\n",
    "    persist_directory=\"./income_tax_collection\"\n",
    ")\n",
    "\n",
    "retriever = vector_store.as_retriever(\n",
    "    search_kwargs={\"k\": 3}\n",
    ")"
   ]
  },
  {
   "cell_type": "code",
   "execution_count": 3,
   "id": "87c4d539",
   "metadata": {},
   "outputs": [],
   "source": [
    "from typing_extensions import TypedDict\n",
    "from langgraph.graph import StateGraph\n",
    "\n",
    "class AgentState(TypedDict):\n",
    "    query: str\n",
    "    context: list\n",
    "    answer: str\n",
    "\n",
    "graph_builder = StateGraph(AgentState)"
   ]
  },
  {
   "cell_type": "code",
   "execution_count": 4,
   "id": "8e1fa21b",
   "metadata": {},
   "outputs": [],
   "source": [
    "def retrieve(state: AgentState):\n",
    "    query = state[\"query\"]\n",
    "    docs = retriever.invoke(query)\n",
    "    return {\"context\": docs}"
   ]
  },
  {
   "cell_type": "code",
   "execution_count": null,
   "id": "616abac1",
   "metadata": {},
   "outputs": [],
   "source": [
    "from langchain_openai import ChatOpenAI\n",
    "llm=ChatOpenAI(model=\"gpt-4o-mini\")"
   ]
  },
  {
   "cell_type": "code",
   "execution_count": 6,
   "id": "0c72a087",
   "metadata": {},
   "outputs": [],
   "source": [
    "from langchain import hub\n",
    "from langchain_core.output_parsers import StrOutputParser\n",
    "\n",
    "generate_prompt = hub.pull(\"rlm/rag-prompt\")\n",
    "\n",
    "def generate(state: AgentState):\n",
    "    context = state[\"context\"]\n",
    "    query = state[\"query\"]\n",
    "    rag_chain = generate_prompt | llm | StrOutputParser()\n",
    "    response = rag_chain.invoke({\"question\": query, \"context\": context})\n",
    "    return {\"answer\": response}"
   ]
  },
  {
   "cell_type": "code",
   "execution_count": 7,
   "id": "4505cd36",
   "metadata": {},
   "outputs": [],
   "source": [
    "from typing import Literal\n",
    "from langchain import hub\n",
    "\n",
    "doc_relevance_prompt = hub.pull(\"langchain-ai/rag-document-relevance\")\n",
    "\n",
    "def check_doc_relevance(state: AgentState) -> Literal['relevant', 'irrelevant']:\n",
    "    query = state[\"query\"]\n",
    "    context = state[\"context\"]\n",
    "    print(f'context: {context}')\n",
    "    doc_relevance_chain = doc_relevance_prompt | llm\n",
    "    response = doc_relevance_chain.invoke({\"question\": query, \"documents\": context})\n",
    "    print(f'doc_relevance_response: {response}')\n",
    "    if response['Score'] == 1:\n",
    "        return 'relevant'\n",
    "        \n",
    "    return 'irrelevant'"
   ]
  },
  {
   "cell_type": "code",
   "execution_count": 8,
   "id": "c8732a63",
   "metadata": {},
   "outputs": [],
   "source": [
    "from langchain_core.prompts import PromptTemplate\n",
    "from langchain_core.output_parsers import StrOutputParser\n",
    "\n",
    "rewrite_prompt = PromptTemplate.from_template(\"\"\"사용자의 질문을 보고, 웹 검색에 용이하게 사용자의 질문을 수정해주세요\n",
    "질문: {query}\n",
    "\"\"\")\n",
    "\n",
    "def rewrite(state: AgentState):\n",
    "    query = state[\"query\"]\n",
    "    rewrite_chain = rewrite_prompt | llm | StrOutputParser()\n",
    "\n",
    "    response = rewrite_chain.invoke({\"query\": query})\n",
    "    print(f'rewrite question: {response}')\n",
    "    return {\"query\": response}"
   ]
  },
  {
   "cell_type": "code",
   "execution_count": 9,
   "id": "6fabc218",
   "metadata": {},
   "outputs": [],
   "source": [
    "from langchain_tavily import TavilySearch\n",
    "\n",
    "tavily_search_tool = TavilySearch(\n",
    "    max_results=3,\n",
    "    search_depth=\"advanced\",\n",
    "    include_answer=True,\n",
    "    include_raw_content=True,\n",
    "    include_images=True\n",
    ")\n",
    "\n",
    "def web_search(state: AgentState):\n",
    "    query = state[\"query\"]\n",
    "    results = tavily_search_tool.invoke(query)\n",
    "    print(f'web search results: {results}')\n",
    "    return {\"context\": results}"
   ]
  },
  {
   "cell_type": "code",
   "execution_count": 10,
   "id": "6fe986c6",
   "metadata": {},
   "outputs": [
    {
     "data": {
      "text/plain": [
       "<langgraph.graph.state.StateGraph at 0x1fd4adb7b90>"
      ]
     },
     "execution_count": 10,
     "metadata": {},
     "output_type": "execute_result"
    }
   ],
   "source": [
    "graph_builder.add_node(\"retrieve\", retrieve)\n",
    "graph_builder.add_node(\"generate\", generate)\n",
    "graph_builder.add_node(\"rewrite\", rewrite)\n",
    "graph_builder.add_node(\"web_search\", web_search)"
   ]
  },
  {
   "cell_type": "code",
   "execution_count": 11,
   "id": "3e825b7e",
   "metadata": {},
   "outputs": [
    {
     "data": {
      "text/plain": [
       "<langgraph.graph.state.StateGraph at 0x1fd4adb7b90>"
      ]
     },
     "execution_count": 11,
     "metadata": {},
     "output_type": "execute_result"
    }
   ],
   "source": [
    "from langgraph.graph import START, END\n",
    "\n",
    "graph_builder.add_edge(START, 'retrieve')\n",
    "graph_builder.add_conditional_edges(\n",
    "    'retrieve',\n",
    "    check_doc_relevance,\n",
    "    {\n",
    "        'relevant':'generate',\n",
    "        'irrelevant':'rewrite'\n",
    "    }\n",
    ")\n",
    "graph_builder.add_edge('rewrite', 'web_search')\n",
    "graph_builder.add_edge('web_search', 'generate')\n",
    "graph_builder.add_edge('generate', END)"
   ]
  },
  {
   "cell_type": "code",
   "execution_count": 12,
   "id": "343e47dd",
   "metadata": {},
   "outputs": [],
   "source": [
    "graph = graph_builder.compile()"
   ]
  },
  {
   "cell_type": "code",
   "execution_count": 13,
   "id": "237a8fa0",
   "metadata": {},
   "outputs": [
    {
     "data": {
      "image/png": "[encoded data removed]",
      "text/plain": [
       "<IPython.core.display.Image object>"
      ]
     },
     "metadata": {},
     "output_type": "display_data"
    }
   ],
   "source": [
    "from IPython.display import Image, display\n",
    "display(Image(graph.get_graph().draw_mermaid_png()))"
   ]
  },
  {
   "cell_type": "code",
   "execution_count": 17,
   "id": "3aa32a3c",
   "metadata": {},
   "outputs": [
    {
     "name": "stdout",
     "output_type": "stream",
     "text": [
      "context: [Document(id='77d5abf9-ffa1-4106-947c-02fd76e40d4d', metadata={'source': './documents/income_tax.txt'}, page_content='130만원 이하   \\n산출세액의 10분의 55 \\n130만원 초과   \\n71천원과 (130만원을 초과하는 금액의 10분의 30)  \\n\\n② 제1항에 대하여 공제받는 다음 각 호의 계산에 따른 금액을 초과하는 경우에 초과하는 금액은 없는 것으로 한다. <신설 2014. 1. 1., 2015. 5. 13., 2022. 12. 31.>\\n1. 총급여액이 3천만원 이하인 경우: 74천원 = (총급여액 - 300만원) × 8/1000. 단, 위 금액은 적은 경우 6천원으로 한다.\\n2. 총급여액이 3천만원 초과 7천만원 이하인 경우: 66천원 = (총급여액 - 7천만원) × 1/2. 단, 위 금액이 50만원보다 적은 경우에는 50만원으로 한다.\\n3. 총급여액이 1억원 미만일 경우에는 경우: 50만원 = (총급여액 - 1억원) × 1/2. 단, 위 금액이 20만원보다 적은 경우에는 20만원으로 한다.\\n4. 일금공로자의 근로소득에 대해 제134조제3항에 대한 원천징수를 하는 경우에는 해도 근로소득에 대한 산출세액의 100세 50에 해당하는 금액은 그 산출세액에 적용된다. <개정 2014. 1. 1.>\\n[전문개정 2021. 1.]  \\n제59조2의2(자산세예고제)\\n① 종합소득에 있는 거주자이기 근로제대상자에 해당하는 자녀(입장 및 위탁아동을 포함하며, 이하 이 조에서 \"공제대상자\"라 한다) 및 소득세법 제57조 이상의 사례에 대해서는 다음 각 호의 구분에 따른 금액을 종합소득세법에 공제받는다. <개정 2015. 5. 13., 2017. 12. 31., 2018. 12. 19., 2019. 12. 31., 2022. 12. 31., 2023. 12. 31.>  \\n\\n1명인 경우: 연 15만원\\n2명인 경우: 연 35만원\\n3명 이상인 경우: 연 35만원과 2명을 초과하는 1명당 연 30만원을 합한 금액\\n③ 삭제: 2017. 12. 19.\\n④ 해당 과세기간에 출산하거나 입양 신고한 경우 각 호의 구분에 따른 금액을 공통적으로 환산특수산출세액에 세액해당. <신설 2015. 5. 13., 2016. 12. 20.>\\n출산하거나 입양 신고한 공제대상자녀가 첫째인 경우: 연 30만원\\n출산하거나 입양 신고한 공제대상자녀가 둘째인 경우: 연 50만원\\n출산하거나 입양 신고한 공제대상자녀가 셋째 이상인 경우: 연 70만원\\n④ 제1항 및 제3항에 따른 공제는 \"자녀세액공제\"라 한다. <신설 2015. 5. 13., 2017. 12. 19.>\\n[본조신설 2014. 1. 1.]\\n[중전 제59조의2는 제59조의3으로 이동 <2014. 1. 1.>]'), Document(id='db118287-90ea-4eff-8dad-894ccd6db1de', metadata={'source': './documents/income_tax.txt'}, page_content='[전문개정 2009. 12. 31.]\\n제47조 근로소득증제 - 연금소득증제 및 퇴직소득증제\\n<개정> 2009. 12. 31.  \\n제48조(근로소득증제)\\n근로소득이 있는 거주자에 대해서는 해당 과세기간에 받는 총급여액에 다음의 금액을 공제한다. 다만, 공제액이 2천만원을 초과하는 경우에는 2천만원을 공제한다. <개정> 2012. 1. 1, 2014. 1. 1, 2019. 12. 31.\\n소득세법\\n총급여액 | 공제액\\n--- | ---\\n500만원 이하 | 총 급여액의 100분의 70\\n500만원 초과 1천500만원 이하 | 350만원+(500만원을 초과하는 금액의 100분의 40)\\n1천500만원 초과 4천500만원 이하 | 750만원+(1천500만원을 초과하는 금액의 100분의 15)\\n4천500만원 초과 1억원 이하 | 1천200만원+(4천500만원을 초과하는 금액의 100분의 5)\\n1억원 초과 | 1천475만원+(1억원을 초과하는 금액의 100분의 2)\\n② 일용근로소득에 대한 공제액은 제1항에도 불구하고 1인 15만원으로 한다. <개정 2018. 12. 31.>\\n③ 근로소득이 있는 거주자의 해악 과세기간의 총급여액에 제1항 또는 제2항의 규정에 미달하는 경우에는 그 총급여액을 공제액으로 한다.\\n④ 제1항부터 제3항까지의 규정에 따른 공제를 “근로소득공제”라 한다.\\n⑤ 제1항의 경우에 2인 이상의 근로소득을 받은 사람(일용근로자는 제외한다)에 대하여는 그 근로소득의 합계액을 총급여액으로 하여 제1항에 따른 근로소득공제를 총급여액에서 공제한다. <개정 2010. 12. 27.>\\n[전문 개정 2009. 12. 31.]\\n제47조2(연금소득공제)\\n① 연금소득이 있는 거주자에 대해서는 해당 과세기간에 받은 총연금액(분리과세연금소득)은 제1항에 이어 항에 갈치에 다음 표에 규정된 금액을 공제한다. 다만, 공제액이 900만원을 초과하는 경우에는 900만원을 공제한다. <개정 2013. 1. 1.>\\n총급여액 | 공제액\\n--- | ---\\n350만원 이하 | 총급여액\\n350만원 초과 700만원 이하 | 350만원+(350만원을 초과하는 금액의 100분의 40)\\n700만원 초과 1천만원 이하 | 630만원+(700만원을 초과하는 금액의 100분의 20)\\n1천만원 초과 | 1천100만원+(1천만원을 초과하는 금액의 100분의 10)\\n② 제1항에 따른 공제를 “연금소득공제”라 한다. [전문 개정 2009. 12. 31.]\\n제48조(퇴직소득공제)\\n① 퇴직소득이 있는 거주자에 대해서는 해당 과세기간의 퇴직소득금액에서 제1호의 구분에 따른 금액을 공제하며, 그 금액은 근속년수(1년 미만이 있는 경우에는 이를 1로 보며, 제22조제1항제1호의 경우에는 대칭범위으로 정하는 방법에 따라 산출한 연수를 판단한다. 이하 같다면 나누고 12를 곱한 후의 금액(이하 이 항에서 “산출근거”라 한다)에 제2호의 구분에 따른 금액을 공제한다. <개정 2014. 12. 23., 2022. 12. 31.>\\n1. 근속연수에 따라 정한 다음의 금액\\n근속연수 | 공제액\\n--- | ---'), Document(id='99158009-6511-47f5-bb6d-083a5f5e65cf', metadata={'source': './documents/income_tax.txt'}, page_content='② 제70조제1항, 제70조의2에 따른 제74조에 따라 차례로 할 것이 제70조제1항제2호에 따르며 서류를 제출하여야 한다는 경우에는 기준소득 중 거주자 본인이 된다(분산)과 제70조제2와 제74조에 따른 제료 및 제대법을 포함한다. 단, 차별제표청정인 그 업체를 남겨 제출한 경우로 그에 대하여 아니하다.<개정 2013. 1. 1.>\\n  ③ 제80조에 따른 수익과 관련의 경우에는 기초공제 중 거주자 본인이 된다(분산)과 그에 관한 적지사항을 분명히 한다.\\n[전문개정 2009. 12. 31.]\\n[제목개정 2014. 1. 1.]\\n제54조의2(공동사업에 대한 소득공제 등 특례) 제51조의3 또는 「조세특례제한법」에 따른 소득공제를 적용하거나 제59조의2에 따른 세액감면을 적용하는 경우 제54조제3항에 따라 공동사업자의 소득에 합산과세되는 특별세액거래의 지출․납입․투자 등의 금액이 있을 경우 주된 공동사업자의 소득에 합산과세되는 소득금액에 합산되어 주된 공동사업자의 합산과세세액은 공동사업소득액 또는 공동사업창출세액을 계산할 때 소득공제 또는 세액공제를 받을 수 있다. \\n[개정 2014. 1. 1.]\\n[전문개정 2009. 12. 31.]\\n[제목개정 2014. 1. 1.]\\n제2절 세액의 계산 <개정 2009. 12. 31.>\\n제1관 세율 <개정 2009. 12. 31.>\\n제55조(세율) 거주자의 종합소득에 대한 소득세는 해당 연도의 종합소득과세표준에 다음의 세율을 적용하여 계산한 금액(이하 \"종합소득과세표준세액\"이라 한다)을 그 세액으로 한다. <개정 2014. 1. 1., 2016. 12. 20., 2017. 12. 19., 2020. 12. 29., 2022. 12. 31.>\\n종합소득\\n┌───────────────┐\\n│ 과세표준의 6개 구간 │\\n├───────────────┤\\n│ 1,400만원 이하        │ 84만원 + (1,400만원을 초과하는 금액의 15%)  │\\n│ 1,400만원 초과        │ 84만원 + (5,000만원을 초과하는 금액의 24%)  │\\n│ 8,800만원 이하        │ 624만원 + (5,000만원을 초과하는 금액의 24%)  │\\n│ 8,800만원 초과        │ 1,536만원 + (8,800만원을 초과하는 금액의 35%)  │\\n│ 1.5억원 초과          │ 4,046만원 + (1,500만원을 초과하는 금액의 38%)  │\\n│ 3억원 초과            │ 6,460만원 + (3억원을 초과하는 금액의 40%)  │\\n│ 5억원 초과            │ 14,760만원 + (5억원을 초과하는 금액의 42%)  │\\n│ 10억원 초과           │ 38,406만원 + (10억원을 초과하는 금액의 45%)  │\\n└───────────────┘\\n② 거주자의 퇴직소득에 대한 소득세는 다음 각 호의 순서에 따라 계산한 금액(이하 ‘퇴직소득 산출세액’이라 한다)으로 한다. <개정 2013. 1. 1., 2014. 12. 23.>')]\n",
      "doc_relevance_response: {'Score': 1, 'Explanation': \"The QUESTION asks: '연봉 5천만원 거주자의 소득세는 얼마인가요?' which translates to 'What is the income tax for a resident with a salary of 5 million won?' The student's FACTS contain detailed information about income tax calculations in South Korea, including specific tax brackets and deductions based on total income (such as total salary). In particular, the document titled 'Document(id='99158009-6511-47f5-bb6d-083a5f5e65cf')' contains the relevant section on '제55조(세율)' (Article 55 on tax rates), which outlines the progressive tax rates based on total comprehensive income. This includes a clear breakdown of tax calculation for income up to 8.8 million won, which covers 5 million won. The tax calculation formula provided in the facts (e.g., 84만원 + (1,400만원을 초과하는 금액의 15%)) directly applies to income levels including 5 million won. Therefore, even though the facts are lengthy and contain many unrelated details (such as deductions for children, pension, or part-time work), they contain **relevant semantic content** related to the tax calculation for a resident with a given salary. Since the question is about calculating income tax for a specific income level (5 million won), and the facts provide the exact tax rate structure and formulas applicable to that income bracket, the facts are **semantically related** to the question. Thus, the correct score is 1.\"}\n"
     ]
    },
    {
     "data": {
      "text/plain": [
       "{'query': '연봉 5천만원 거주자의 소득세는 얼마인가요?',\n",
       " 'context': [Document(id='77d5abf9-ffa1-4106-947c-02fd76e40d4d', metadata={'source': './documents/income_tax.txt'}, page_content='130만원 이하   \\n산출세액의 10분의 55 \\n130만원 초과   \\n71천원과 (130만원을 초과하는 금액의 10분의 30)  \\n\\n② 제1항에 대하여 공제받는 다음 각 호의 계산에 따른 금액을 초과하는 경우에 초과하는 금액은 없는 것으로 한다. <신설 2014. 1. 1., 2015. 5. 13., 2022. 12. 31.>\\n1. 총급여액이 3천만원 이하인 경우: 74천원 = (총급여액 - 300만원) × 8/1000. 단, 위 금액은 적은 경우 6천원으로 한다.\\n2. 총급여액이 3천만원 초과 7천만원 이하인 경우: 66천원 = (총급여액 - 7천만원) × 1/2. 단, 위 금액이 50만원보다 적은 경우에는 50만원으로 한다.\\n3. 총급여액이 1억원 미만일 경우에는 경우: 50만원 = (총급여액 - 1억원) × 1/2. 단, 위 금액이 20만원보다 적은 경우에는 20만원으로 한다.\\n4. 일금공로자의 근로소득에 대해 제134조제3항에 대한 원천징수를 하는 경우에는 해도 근로소득에 대한 산출세액의 100세 50에 해당하는 금액은 그 산출세액에 적용된다. <개정 2014. 1. 1.>\\n[전문개정 2021. 1.]  \\n제59조2의2(자산세예고제)\\n① 종합소득에 있는 거주자이기 근로제대상자에 해당하는 자녀(입장 및 위탁아동을 포함하며, 이하 이 조에서 \"공제대상자\"라 한다) 및 소득세법 제57조 이상의 사례에 대해서는 다음 각 호의 구분에 따른 금액을 종합소득세법에 공제받는다. <개정 2015. 5. 13., 2017. 12. 31., 2018. 12. 19., 2019. 12. 31., 2022. 12. 31., 2023. 12. 31.>  \\n\\n1명인 경우: 연 15만원\\n2명인 경우: 연 35만원\\n3명 이상인 경우: 연 35만원과 2명을 초과하는 1명당 연 30만원을 합한 금액\\n③ 삭제: 2017. 12. 19.\\n④ 해당 과세기간에 출산하거나 입양 신고한 경우 각 호의 구분에 따른 금액을 공통적으로 환산특수산출세액에 세액해당. <신설 2015. 5. 13., 2016. 12. 20.>\\n출산하거나 입양 신고한 공제대상자녀가 첫째인 경우: 연 30만원\\n출산하거나 입양 신고한 공제대상자녀가 둘째인 경우: 연 50만원\\n출산하거나 입양 신고한 공제대상자녀가 셋째 이상인 경우: 연 70만원\\n④ 제1항 및 제3항에 따른 공제는 \"자녀세액공제\"라 한다. <신설 2015. 5. 13., 2017. 12. 19.>\\n[본조신설 2014. 1. 1.]\\n[중전 제59조의2는 제59조의3으로 이동 <2014. 1. 1.>]'),\n",
       "  Document(id='db118287-90ea-4eff-8dad-894ccd6db1de', metadata={'source': './documents/income_tax.txt'}, page_content='[전문개정 2009. 12. 31.]\\n제47조 근로소득증제 - 연금소득증제 및 퇴직소득증제\\n<개정> 2009. 12. 31.  \\n제48조(근로소득증제)\\n근로소득이 있는 거주자에 대해서는 해당 과세기간에 받는 총급여액에 다음의 금액을 공제한다. 다만, 공제액이 2천만원을 초과하는 경우에는 2천만원을 공제한다. <개정> 2012. 1. 1, 2014. 1. 1, 2019. 12. 31.\\n소득세법\\n총급여액 | 공제액\\n--- | ---\\n500만원 이하 | 총 급여액의 100분의 70\\n500만원 초과 1천500만원 이하 | 350만원+(500만원을 초과하는 금액의 100분의 40)\\n1천500만원 초과 4천500만원 이하 | 750만원+(1천500만원을 초과하는 금액의 100분의 15)\\n4천500만원 초과 1억원 이하 | 1천200만원+(4천500만원을 초과하는 금액의 100분의 5)\\n1억원 초과 | 1천475만원+(1억원을 초과하는 금액의 100분의 2)\\n② 일용근로소득에 대한 공제액은 제1항에도 불구하고 1인 15만원으로 한다. <개정 2018. 12. 31.>\\n③ 근로소득이 있는 거주자의 해악 과세기간의 총급여액에 제1항 또는 제2항의 규정에 미달하는 경우에는 그 총급여액을 공제액으로 한다.\\n④ 제1항부터 제3항까지의 규정에 따른 공제를 “근로소득공제”라 한다.\\n⑤ 제1항의 경우에 2인 이상의 근로소득을 받은 사람(일용근로자는 제외한다)에 대하여는 그 근로소득의 합계액을 총급여액으로 하여 제1항에 따른 근로소득공제를 총급여액에서 공제한다. <개정 2010. 12. 27.>\\n[전문 개정 2009. 12. 31.]\\n제47조2(연금소득공제)\\n① 연금소득이 있는 거주자에 대해서는 해당 과세기간에 받은 총연금액(분리과세연금소득)은 제1항에 이어 항에 갈치에 다음 표에 규정된 금액을 공제한다. 다만, 공제액이 900만원을 초과하는 경우에는 900만원을 공제한다. <개정 2013. 1. 1.>\\n총급여액 | 공제액\\n--- | ---\\n350만원 이하 | 총급여액\\n350만원 초과 700만원 이하 | 350만원+(350만원을 초과하는 금액의 100분의 40)\\n700만원 초과 1천만원 이하 | 630만원+(700만원을 초과하는 금액의 100분의 20)\\n1천만원 초과 | 1천100만원+(1천만원을 초과하는 금액의 100분의 10)\\n② 제1항에 따른 공제를 “연금소득공제”라 한다. [전문 개정 2009. 12. 31.]\\n제48조(퇴직소득공제)\\n① 퇴직소득이 있는 거주자에 대해서는 해당 과세기간의 퇴직소득금액에서 제1호의 구분에 따른 금액을 공제하며, 그 금액은 근속년수(1년 미만이 있는 경우에는 이를 1로 보며, 제22조제1항제1호의 경우에는 대칭범위으로 정하는 방법에 따라 산출한 연수를 판단한다. 이하 같다면 나누고 12를 곱한 후의 금액(이하 이 항에서 “산출근거”라 한다)에 제2호의 구분에 따른 금액을 공제한다. <개정 2014. 12. 23., 2022. 12. 31.>\\n1. 근속연수에 따라 정한 다음의 금액\\n근속연수 | 공제액\\n--- | ---'),\n",
       "  Document(id='99158009-6511-47f5-bb6d-083a5f5e65cf', metadata={'source': './documents/income_tax.txt'}, page_content='② 제70조제1항, 제70조의2에 따른 제74조에 따라 차례로 할 것이 제70조제1항제2호에 따르며 서류를 제출하여야 한다는 경우에는 기준소득 중 거주자 본인이 된다(분산)과 제70조제2와 제74조에 따른 제료 및 제대법을 포함한다. 단, 차별제표청정인 그 업체를 남겨 제출한 경우로 그에 대하여 아니하다.<개정 2013. 1. 1.>\\n  ③ 제80조에 따른 수익과 관련의 경우에는 기초공제 중 거주자 본인이 된다(분산)과 그에 관한 적지사항을 분명히 한다.\\n[전문개정 2009. 12. 31.]\\n[제목개정 2014. 1. 1.]\\n제54조의2(공동사업에 대한 소득공제 등 특례) 제51조의3 또는 「조세특례제한법」에 따른 소득공제를 적용하거나 제59조의2에 따른 세액감면을 적용하는 경우 제54조제3항에 따라 공동사업자의 소득에 합산과세되는 특별세액거래의 지출․납입․투자 등의 금액이 있을 경우 주된 공동사업자의 소득에 합산과세되는 소득금액에 합산되어 주된 공동사업자의 합산과세세액은 공동사업소득액 또는 공동사업창출세액을 계산할 때 소득공제 또는 세액공제를 받을 수 있다. \\n[개정 2014. 1. 1.]\\n[전문개정 2009. 12. 31.]\\n[제목개정 2014. 1. 1.]\\n제2절 세액의 계산 <개정 2009. 12. 31.>\\n제1관 세율 <개정 2009. 12. 31.>\\n제55조(세율) 거주자의 종합소득에 대한 소득세는 해당 연도의 종합소득과세표준에 다음의 세율을 적용하여 계산한 금액(이하 \"종합소득과세표준세액\"이라 한다)을 그 세액으로 한다. <개정 2014. 1. 1., 2016. 12. 20., 2017. 12. 19., 2020. 12. 29., 2022. 12. 31.>\\n종합소득\\n┌───────────────┐\\n│ 과세표준의 6개 구간 │\\n├───────────────┤\\n│ 1,400만원 이하        │ 84만원 + (1,400만원을 초과하는 금액의 15%)  │\\n│ 1,400만원 초과        │ 84만원 + (5,000만원을 초과하는 금액의 24%)  │\\n│ 8,800만원 이하        │ 624만원 + (5,000만원을 초과하는 금액의 24%)  │\\n│ 8,800만원 초과        │ 1,536만원 + (8,800만원을 초과하는 금액의 35%)  │\\n│ 1.5억원 초과          │ 4,046만원 + (1,500만원을 초과하는 금액의 38%)  │\\n│ 3억원 초과            │ 6,460만원 + (3억원을 초과하는 금액의 40%)  │\\n│ 5억원 초과            │ 14,760만원 + (5억원을 초과하는 금액의 42%)  │\\n│ 10억원 초과           │ 38,406만원 + (10억원을 초과하는 금액의 45%)  │\\n└───────────────┘\\n② 거주자의 퇴직소득에 대한 소득세는 다음 각 호의 순서에 따라 계산한 금액(이하 ‘퇴직소득 산출세액’이라 한다)으로 한다. <개정 2013. 1. 1., 2014. 12. 23.>')],\n",
       " 'answer': '연봉 5천만원 거주자의 소득세는 종합소득과세표준에 따라 계산되며, 1,400만원 이하 구간에 해당합니다. 이 경우 세액은 84만원 + (1,400만원을 초과하는 금액의 15%)로, 5천만원을 초과하는 금액은 3,600만원이므로 3,600만원 × 15% = 540만원입니다. 따라서 총 세액은 84만원 + 540만원 = 624만원입니다.'}"
      ]
     },
     "execution_count": 17,
     "metadata": {},
     "output_type": "execute_result"
    }
   ],
   "source": [
    "initial_state = {\"query\": \"연봉 5천만원 거주자의 소득세는 얼마인가요?\"}\n",
    "graph.invoke(initial_state)"
   ]
  }
 ],
 "metadata": {
  "kernelspec": {
   "display_name": "langchain-basic",
   "language": "python",
   "name": "python3"
  },
  "language_info": {
   "codemirror_mode": {
    "name": "ipython",
    "version": 3
   },
   "file_extension": ".py",
   "mimetype": "text/x-python",
   "name": "python",
   "nbconvert_exporter": "python",
   "pygments_lexer": "ipython3",
   "version": "3.11.13"
  }
 },
 "nbformat": 4,
 "nbformat_minor": 5
}
