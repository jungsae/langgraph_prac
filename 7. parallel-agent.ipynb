{
 "cells": [
  {
   "cell_type": "code",
   "execution_count": 3,
   "id": "de6a5e34",
   "metadata": {},
   "outputs": [
    {
     "data": {
      "text/plain": [
       "True"
      ]
     },
     "execution_count": 3,
     "metadata": {},
     "output_type": "execute_result"
    }
   ],
   "source": [
    "from dotenv import load_dotenv\n",
    "load_dotenv()"
   ]
  },
  {
   "cell_type": "code",
   "execution_count": 4,
   "id": "458f3f39",
   "metadata": {},
   "outputs": [],
   "source": [
    "from langgraph.graph import StateGraph\n",
    "from typing_extensions import TypedDict\n",
    "\n",
    "class AgentState(TypedDict):\n",
    "    query: str\n",
    "    answer: str\n",
    "    tax_base_equation: str #과세표준 계산 수식\n",
    "    tax_deduction: str #공제액\n",
    "    market_ratio: str #공정시장가액비율\n",
    "    tax_base: str #과세표준 계산\n",
    "\n",
    "graph_builder = StateGraph(AgentState)"
   ]
  },
  {
   "cell_type": "markdown",
   "id": "b664fe6f",
   "metadata": {},
   "source": [
    "----------------"
   ]
  },
  {
   "cell_type": "markdown",
   "id": "dc818160",
   "metadata": {},
   "source": [
    "## HuggingFaceEmbeddings / Qwen3-Embedding-0.6B을 사용한 임베딩"
   ]
  },
  {
   "cell_type": "code",
   "execution_count": 3,
   "id": "337a6d55",
   "metadata": {},
   "outputs": [],
   "source": [
    "# from langchain_community.embeddings import HuggingFaceEmbeddings\n",
    "# from langchain_community.vectorstores import Chroma\n",
    "# from langchain.text_splitter import RecursiveCharacterTextSplitter\n",
    "# from langchain_community.document_loaders import TextLoader\n",
    "\n",
    "# # 1. 임베딩 모델 준비\n",
    "# # 사용할 모델 이름을 지정하고, GPU를 사용하도록 설정합니다.\n",
    "# model_name = \"Qwen/Qwen3-Embedding-0.6B\"\n",
    "# model_kwargs = {'device': 'cuda'}\n",
    "# encode_kwargs = {'normalize_embeddings': False} # 모델에 따라 정규화 옵션 조절\n",
    "\n",
    "# embedding_function = HuggingFaceEmbeddings(\n",
    "#     model_name=model_name,\n",
    "#     model_kwargs=model_kwargs,\n",
    "#     encode_kwargs=encode_kwargs\n",
    "# )\n",
    "\n",
    "# # 2. 문서 로드 및 분할\n",
    "# loader = TextLoader(\"./documents/real_estate_tax.txt\")\n",
    "# documents = loader.load()\n",
    "# text_splitter = RecursiveCharacterTextSplitter(\n",
    "#     chunk_size=1500, \n",
    "#     chunk_overlap=100,\n",
    "#     separators=[\"\\n\\n\", \"\\n\"]\n",
    "# )\n",
    "# docs = text_splitter.split_documents(documents)\n",
    "\n",
    "# # 3. ChromaDB에 문서 임베딩 및 저장\n",
    "# vector_store = Chroma.from_documents(\n",
    "#     documents=docs,\n",
    "#     embedding=embedding_function,\n",
    "#     collection_name=\"qwen_real_estate_tax_collection\",\n",
    "#     persist_directory=\"./qwen_real_estate_tax_collection\" # DB를 디스크에 저장\n",
    "# )\n",
    "\n",
    "# print(\"임베딩 및 벡터 저장소 생성이 완료되었습니다.\")"
   ]
  },
  {
   "cell_type": "code",
   "execution_count": 4,
   "id": "2efab725",
   "metadata": {},
   "outputs": [],
   "source": [
    "# retriever = vector_store.as_retriever(search_kwargs={\"k\": 3})\n",
    "# retriever.invoke('주택에 대한 종합부동산세 계산시 과세표준을 계산하는 방법을 수식으로 표현해서 알려주세요')"
   ]
  },
  {
   "cell_type": "markdown",
   "id": "07c20dc5",
   "metadata": {},
   "source": [
    "----------------"
   ]
  },
  {
   "cell_type": "code",
   "execution_count": 5,
   "id": "e513a4f1",
   "metadata": {},
   "outputs": [],
   "source": [
    "# from langchain_text_splitters import RecursiveCharacterTextSplitter\n",
    "# from langchain_community.document_loaders import TextLoader\n",
    "\n",
    "# text_spliiter = RecursiveCharacterTextSplitter(\n",
    "#     chunk_size=1500, \n",
    "#     chunk_overlap=100,\n",
    "#     separators=[\"\\n\\n\", \"\\n\"]\n",
    "#     )\n",
    "\n",
    "# loader = TextLoader('./documents/real_estate_tax.txt')\n",
    "# document_list = loader.load_and_split(text_spliiter)"
   ]
  },
  {
   "cell_type": "code",
   "execution_count": 6,
   "id": "507c317f",
   "metadata": {},
   "outputs": [],
   "source": [
    "# document_list"
   ]
  },
  {
   "cell_type": "markdown",
   "id": "85f68424",
   "metadata": {},
   "source": [
    "-----------"
   ]
  },
  {
   "cell_type": "code",
   "execution_count": 7,
   "id": "1a7e76d6",
   "metadata": {},
   "outputs": [],
   "source": [
    "# from langchain_chroma import Chroma\n",
    "# from langchain_upstage import UpstageEmbeddings\n",
    "# from langchain_openai import OpenAIEmbeddings\n",
    "\n",
    "\n",
    "# # embedding_function = UpstageEmbeddings(\n",
    "# #     model=\"embedding-query\"\n",
    "# # )\n",
    "\n",
    "# embedding_function = OpenAIEmbeddings(\n",
    "#     model=\"text-embedding-3-large\"\n",
    "# )\n",
    "\n",
    "# vector_store = Chroma.from_documents(\n",
    "#     documents=document_list,\n",
    "#     embedding=embedding_function,\n",
    "#     collection_name=\"real_estate_tax_collection\",\n",
    "#     persist_directory=\"./real_estate_tax_collection\"\n",
    "# )\n",
    "\n",
    "# retriever = vector_store.as_retriever(\n",
    "#     search_kwargs={\"k\": 3}\n",
    "# )"
   ]
  },
  {
   "cell_type": "code",
   "execution_count": 5,
   "id": "6065d8fc",
   "metadata": {},
   "outputs": [],
   "source": [
    "from langchain_chroma import Chroma\n",
    "from langchain_upstage import UpstageEmbeddings\n",
    "from langchain_openai import OpenAIEmbeddings\n",
    "\n",
    "# embedding_function = UpstageEmbeddings(\n",
    "#     model=\"embedding-query\"\n",
    "#     # model=\"embedding-passage\"\n",
    "# )\n",
    "\n",
    "embedding_function = OpenAIEmbeddings(\n",
    "    model=\"text-embedding-3-large\"\n",
    ")\n",
    "\n",
    "vector_store = Chroma(\n",
    "    embedding_function=embedding_function,\n",
    "    collection_name=\"real_estate_tax_collection\",\n",
    "    persist_directory=\"./real_estate_tax_collection\"\n",
    ")\n",
    "\n",
    "retriever = vector_store.as_retriever(\n",
    "    search_kwargs={\"k\": 3}\n",
    ")"
   ]
  },
  {
   "cell_type": "code",
   "execution_count": 6,
   "id": "d3304112",
   "metadata": {},
   "outputs": [],
   "source": [
    "query = '5억짜리 집 1채, 10억짜리 집 1채, 20억짜리 집 1채를 가지고 있을 때 세금을 얼마나 내나요?'"
   ]
  },
  {
   "cell_type": "code",
   "execution_count": 7,
   "id": "70c9101a",
   "metadata": {},
   "outputs": [],
   "source": [
    "from langchain import hub\n",
    "from langchain_core.output_parsers import StrOutputParser\n",
    "from langchain_core.runnables import RunnablePassthrough\n",
    "from langchain_core.prompts import ChatPromptTemplate\n",
    "\n",
    "rag_prompt = hub.pull(\"rlm/rag-prompt\")"
   ]
  },
  {
   "cell_type": "code",
   "execution_count": 11,
   "id": "795aeac0",
   "metadata": {},
   "outputs": [],
   "source": [
    "# from langchain_upstage import ChatUpstage\n",
    "\n",
    "# llm = ChatUpstage(\n",
    "#     model=\"solar-pro2\",\n",
    "#     )\n",
    "\n",
    "# sllm = ChatUpstage(\n",
    "#     model = \"solar-mini\"\n",
    "# )"
   ]
  },
  {
   "cell_type": "code",
   "execution_count": 12,
   "id": "65e6c963",
   "metadata": {},
   "outputs": [],
   "source": [
    "# from langchain_openai import ChatOpenAI\n",
    "\n",
    "# llm = ChatOpenAI(\n",
    "#     model = 'Qwen/Qwen3-0.6B',\n",
    "#     temperature = 0.0,\n",
    "#     base_url = 'http://localhost:8000/v1',\n",
    "#     api_key = '',\n",
    "# )"
   ]
  },
  {
   "cell_type": "code",
   "execution_count": 8,
   "id": "c0335221",
   "metadata": {},
   "outputs": [],
   "source": [
    "from langchain_openai import ChatOpenAI\n",
    "\n",
    "llm = ChatOpenAI(\n",
    "    model=\"gpt-4o\",\n",
    "    temperature=0.0\n",
    ")"
   ]
  },
  {
   "cell_type": "code",
   "execution_count": 9,
   "id": "7363dc41",
   "metadata": {},
   "outputs": [],
   "source": [
    "tax_base_retrieval_chain =( \n",
    "    {'context': retriever, 'question': RunnablePassthrough()}\n",
    "    | rag_prompt \n",
    "    | llm   \n",
    "    | StrOutputParser()\n",
    ")\n",
    "\n",
    "tax_base_equation_prompt = ChatPromptTemplate.from_messages([\n",
    "    ('system', '사용자의 질문에서 과세표준을 계산하는 방법을 수식으로 나타내주세요. 부연설명 없이 수식만 리턴해주세요'),\n",
    "    ('human', '{tax_base_equation_information}')\n",
    "])\n",
    "\n",
    "tax_base_equation_chain = (\n",
    "    {'tax_base_equation_information': RunnablePassthrough()}\n",
    "    | tax_base_equation_prompt\n",
    "    | llm   \n",
    "    | StrOutputParser()\n",
    "    )\n",
    "\n",
    "tax_base_chain = {'tax_base_equation_information': tax_base_retrieval_chain} | tax_base_equation_chain\n",
    "\n",
    "def get_tax_base_equation(state: AgentState) -> AgentState:\n",
    "    tax_base_equation_question = '주택에 대한 종합부동산세 계산시 과세표준을 계산하는 방법을 수식으로 표현해서 알려주세요'\n",
    "    tax_base_equation = tax_base_chain.invoke(tax_base_equation_question)\n",
    "    return {'tax_base_equation': tax_base_equation}"
   ]
  },
  {
   "cell_type": "code",
   "execution_count": 15,
   "id": "56220e68",
   "metadata": {},
   "outputs": [],
   "source": [
    "# {'tax_base_equation': '과세표준 = (합산 주택 공시가격 - 공제액) × 공정시장가액비율'}"
   ]
  },
  {
   "cell_type": "code",
   "execution_count": 10,
   "id": "c5673f8d",
   "metadata": {},
   "outputs": [],
   "source": [
    "tax_deduction_chain = (\n",
    "    {'context': retriever, 'question': RunnablePassthrough()}\n",
    "    | rag_prompt\n",
    "    | llm\n",
    "    | StrOutputParser()\n",
    ")\n",
    "\n",
    "def get_tax_deduction(state: AgentState) -> AgentState:\n",
    "    tax_deduction_question = '주택에 대한 종합부동산세 계산시 공제금액을 알려주세요'\n",
    "    tax_deduction = tax_deduction_chain.invoke(tax_deduction_question)\n",
    "    return {'tax_deduction': tax_deduction}"
   ]
  },
  {
   "cell_type": "code",
   "execution_count": 11,
   "id": "3de75779",
   "metadata": {},
   "outputs": [],
   "source": [
    "# {'tax_deduction': '주택에 대한 종합부동산세 계산 시 1세대 1주택자에게는 12억 원이 공제되고, 일반 납세의무자에게는 9억 원이 공제됩니다. 법인이나 법인으로 보는 단체의 경우에는 6억 원이 공제됩니다.'}"
   ]
  },
  {
   "cell_type": "code",
   "execution_count": 12,
   "id": "1d76d0c6",
   "metadata": {},
   "outputs": [],
   "source": [
    "from datetime import date\n",
    "from langchain_tavily import TavilySearch\n",
    "\n",
    "tavily_search_tool = TavilySearch(\n",
    "    max_results=3,\n",
    "    search_depth=\"advanced\",\n",
    "    include_answer=True,\n",
    "    include_raw_content=True,\n",
    "    include_images=True\n",
    ")\n",
    "\n",
    "tax_market_ratio_prompt = ChatPromptTemplate.from_messages([\n",
    "    ('system', f'아래 정보를 기반으로 공정시장 가액비율을 계산해주세요\\n\\nContext:\\n{{context}}'),\n",
    "    ('human', '{query}')\n",
    "])\n",
    "\n",
    "\n",
    "def get_market_ratio(state: AgentState) -> AgentState:\n",
    "    query = f'오늘 날짜:({date.today()})에 해당하는 주택 공시가격 공정시장가액비율은 몇 %인가요?'\n",
    "    context = tavily_search_tool.invoke(query)\n",
    "    tax_market_ratio_chain = (\n",
    "        tax_market_ratio_prompt\n",
    "        | llm\n",
    "        | StrOutputParser()\n",
    "    )\n",
    "    market_ratio = tax_market_ratio_chain.invoke({'context': context, 'query': query})\n",
    "    return {\"market_ratio\": market_ratio}"
   ]
  },
  {
   "cell_type": "code",
   "execution_count": 19,
   "id": "2d38cd62",
   "metadata": {},
   "outputs": [],
   "source": [
    "# {'market_ratio': '2025년 기준으로 주택의 공시가격 공정시장가액비율은 60%입니다. 단, 9억 원을 초과하는 주택의 경우 비율은 45%가 적용됩니다.'}"
   ]
  },
  {
   "cell_type": "code",
   "execution_count": 13,
   "id": "baa64d45",
   "metadata": {},
   "outputs": [],
   "source": [
    "tax_base_calculation_prompt = ChatPromptTemplate.from_messages(\n",
    "    [\n",
    "        ('system',\"\"\"\n",
    "주어진 내용을 기반으로 과세표준을 계산해주세요\n",
    "\n",
    "과세표준 계산 공식: {tax_base_equation}\n",
    "공제금액: {tax_deduction}\n",
    "공정시장가액비율: {market_ratio}\"\"\"),\n",
    "        ('human', '사용자 주택 공시가격 정보: {query}')\n",
    "    ]\n",
    ")\n",
    "\n",
    "def calculate_tax_base(state: AgentState) -> AgentState:\n",
    "    tax_base_equation = state['tax_base_equation']\n",
    "    tax_deduction = state['tax_deduction']\n",
    "    market_ratio = state['market_ratio']\n",
    "    query = state['query']\n",
    "    tax_base_calculation_chain = (\n",
    "        tax_base_calculation_prompt\n",
    "        | llm\n",
    "        | StrOutputParser()\n",
    "    )\n",
    "    tax_base = tax_base_calculation_chain.invoke({\n",
    "        'tax_base_equation': tax_base_equation,\n",
    "        'tax_deduction': tax_deduction,\n",
    "        'market_ratio': market_ratio, \n",
    "        'query': query\n",
    "    })\n",
    "    return {'tax_base': tax_base}"
   ]
  },
  {
   "cell_type": "code",
   "execution_count": 14,
   "id": "d396c292",
   "metadata": {},
   "outputs": [],
   "source": [
    "tax_rate_calculation_prompt = ChatPromptTemplate.from_messages([\n",
    "    ('system', '''당신은 종합부동산세 계산 전문가입니다. 아래 문서를 참고해서 사용자의 질문에 대한 종합부동산세를 계산해주세요\n",
    "    \n",
    "    종합부동산세 세율:{context}'''),\n",
    "    ('human', '''과세표준과 사용자가 소지한 주택의 수가 아래와 같을 때 종합부동산세를 계산해주세요\n",
    "    \n",
    "    과세표준: {tax_base}\n",
    "    주택 수: {query}''')\n",
    "])\n",
    "\n",
    "def calculate_tax_rate(state: AgentState):\n",
    "    query = state['query']\n",
    "    tax_base = state['tax_base']\n",
    "    context = retriever.invoke(query)\n",
    "    tax_rate_chain = (\n",
    "        tax_rate_calculation_prompt\n",
    "        | llm\n",
    "        | StrOutputParser()\n",
    "    )\n",
    "    tax_rate = tax_rate_chain.invoke({\n",
    "        'context': context,\n",
    "        'tax_base': tax_base,\n",
    "        'query': query\n",
    "        })\n",
    "    print(f'tax_rate: {tax_rate}')\n",
    "\n",
    "    return {'answer': tax_rate}"
   ]
  },
  {
   "cell_type": "code",
   "execution_count": 15,
   "id": "90d14657",
   "metadata": {},
   "outputs": [
    {
     "data": {
      "text/plain": [
       "<langgraph.graph.state.StateGraph at 0x19ae9f48310>"
      ]
     },
     "execution_count": 15,
     "metadata": {},
     "output_type": "execute_result"
    }
   ],
   "source": [
    "graph_builder.add_node('get_tax_base_equation', get_tax_base_equation)\n",
    "graph_builder.add_node('get_tax_deduction', get_tax_deduction)\n",
    "graph_builder.add_node('get_market_ratio', get_market_ratio)\n",
    "graph_builder.add_node('calculate_tax_base', calculate_tax_base)\n",
    "graph_builder.add_node('calculate_tax_rate', calculate_tax_rate)"
   ]
  },
  {
   "cell_type": "code",
   "execution_count": 16,
   "id": "e1765814",
   "metadata": {},
   "outputs": [
    {
     "data": {
      "text/plain": [
       "<langgraph.graph.state.StateGraph at 0x19ae9f48310>"
      ]
     },
     "execution_count": 16,
     "metadata": {},
     "output_type": "execute_result"
    }
   ],
   "source": [
    "from langgraph.graph import START, END\n",
    "\n",
    "graph_builder.add_edge(START, 'get_tax_base_equation')\n",
    "graph_builder.add_edge(START, 'get_tax_deduction')\n",
    "graph_builder.add_edge(START, 'get_market_ratio')\n",
    "graph_builder.add_edge('get_tax_base_equation', 'calculate_tax_base')\n",
    "graph_builder.add_edge('get_tax_deduction', 'calculate_tax_base')\n",
    "graph_builder.add_edge('get_market_ratio', 'calculate_tax_base')\n",
    "graph_builder.add_edge('calculate_tax_base', 'calculate_tax_rate')\n",
    "graph_builder.add_edge('calculate_tax_rate', END)"
   ]
  },
  {
   "cell_type": "code",
   "execution_count": 17,
   "id": "a17ff362",
   "metadata": {},
   "outputs": [],
   "source": [
    "graph = graph_builder.compile()"
   ]
  },
  {
   "cell_type": "code",
   "execution_count": 19,
   "id": "79955dce",
   "metadata": {},
   "outputs": [
    {
     "data": {
      "image/png": "[encoded data removed]",
      "text/plain": [
       "<IPython.core.display.Image object>"
      ]
     },
     "metadata": {},
     "output_type": "display_data"
    }
   ],
   "source": [
    "from IPython.display import Image, display\n",
    "\n",
    "display(Image(graph.get_graph().draw_mermaid_png()))"
   ]
  },
  {
   "cell_type": "code",
   "execution_count": 26,
   "id": "a74e0c1a",
   "metadata": {},
   "outputs": [
    {
     "name": "stdout",
     "output_type": "stream",
     "text": [
      "tax_rate: 주어진 정보를 바탕으로 과세표준이 11.7억 원이고, 사용자는 총 3채의 주택을 소유하고 있습니다. 따라서, 3주택 이상 소유한 경우의 세율을 적용해야 합니다.\n",
      "\n",
      "과세표준이 11.7억 원일 때, 3주택 이상 소유한 경우의 세율은 다음과 같습니다:\n",
      "\n",
      "- 6억 원 초과 12억 원 이하: 360만 원 + (6억 원을 초과하는 금액의 1천분의 10)\n",
      "\n",
      "과세표준이 11.7억 원이므로, 6억 원을 초과하는 금액은 11.7억 원 - 6억 원 = 5.7억 원입니다.\n",
      "\n",
      "따라서, 종합부동산세는 다음과 같이 계산됩니다:\n",
      "\n",
      "- 기본 세액: 360만 원\n",
      "- 추가 세액: 5.7억 원 × 0.001 = 570만 원\n",
      "\n",
      "총 종합부동산세 = 360만 원 + 570만 원 = 930만 원\n",
      "\n",
      "따라서, 사용자는 930만 원의 종합부동산세를 납부해야 합니다.\n"
     ]
    },
    {
     "data": {
      "text/plain": [
       "{'query': '5억짜리 집 1채, 10억짜리 집 1채, 20억짜리 집 1채를 가지고 있을 때 세금을 얼마나 내나요?',\n",
       " 'answer': '주어진 정보를 바탕으로 과세표준이 11.7억 원이고, 사용자는 총 3채의 주택을 소유하고 있습니다. 따라서, 3주택 이상 소유한 경우의 세율을 적용해야 합니다.\\n\\n과세표준이 11.7억 원일 때, 3주택 이상 소유한 경우의 세율은 다음과 같습니다:\\n\\n- 6억 원 초과 12억 원 이하: 360만 원 + (6억 원을 초과하는 금액의 1천분의 10)\\n\\n과세표준이 11.7억 원이므로, 6억 원을 초과하는 금액은 11.7억 원 - 6억 원 = 5.7억 원입니다.\\n\\n따라서, 종합부동산세는 다음과 같이 계산됩니다:\\n\\n- 기본 세액: 360만 원\\n- 추가 세액: 5.7억 원 × 0.001 = 570만 원\\n\\n총 종합부동산세 = 360만 원 + 570만 원 = 930만 원\\n\\n따라서, 사용자는 930만 원의 종합부동산세를 납부해야 합니다.',\n",
       " 'tax_base_equation': '과세표준 = (주택의 공시가격 합계 - 공제 금액) × 공정시장가액비율',\n",
       " 'tax_deduction': '주택에 대한 종합부동산세 계산 시 공제금액은 1세대 1주택자의 경우 12억 원, 법인 또는 법인으로 보는 단체의 경우 6억 원, 그 외의 경우 9억 원입니다.',\n",
       " 'market_ratio': '2025년 9월 24일에 해당하는 주택 공시가격 공정시장가액비율은 다음과 같습니다: 주택 가격이 6억 원 이하인 경우 44%가 적용되며, 6억 원을 초과하는 경우에는 45%가 적용됩니다.',\n",
       " 'tax_base': '주어진 정보를 바탕으로 과세표준을 계산해보겠습니다.\\n\\n1. 주택의 공시가격 합계:\\n   - 5억 원짜리 집 1채\\n   - 10억 원짜리 집 1채\\n   - 20억 원짜리 집 1채\\n\\n   총 공시가격 합계 = 5억 + 10억 + 20억 = 35억 원\\n\\n2. 공제 금액:\\n   - 1세대 1주택자가 아닌 경우, 공제 금액은 9억 원입니다.\\n\\n3. 공정시장가액비율:\\n   - 주택 가격이 6억 원 이하인 경우 44%가 적용됩니다.\\n   - 주택 가격이 6억 원을 초과하는 경우 45%가 적용됩니다.\\n\\n   따라서, 35억 원은 6억 원을 초과하므로 45%가 적용됩니다.\\n\\n4. 과세표준 계산:\\n   - 과세표준 = (주택의 공시가격 합계 - 공제 금액) × 공정시장가액비율\\n   - 과세표준 = (35억 원 - 9억 원) × 45%\\n   - 과세표준 = 26억 원 × 0.45\\n   - 과세표준 = 11.7억 원\\n\\n따라서, 과세표준은 11.7억 원입니다. 이 과세표준을 바탕으로 종합부동산세를 계산하게 됩니다. 종합부동산세율은 과세표준에 따라 다르므로, 정확한 세금 금액을 계산하기 위해서는 해당 세율을 적용해야 합니다.'}"
      ]
     },
     "execution_count": 26,
     "metadata": {},
     "output_type": "execute_result"
    }
   ],
   "source": [
    "initial_state = {'query': query}\n",
    "graph.invoke(initial_state)"
   ]
  }
 ],
 "metadata": {
  "kernelspec": {
   "display_name": "langchain-basic",
   "language": "python",
   "name": "python3"
  },
  "language_info": {
   "codemirror_mode": {
    "name": "ipython",
    "version": 3
   },
   "file_extension": ".py",
   "mimetype": "text/x-python",
   "name": "python",
   "nbconvert_exporter": "python",
   "pygments_lexer": "ipython3",
   "version": "3.11.13"
  }
 },
 "nbformat": 4,
 "nbformat_minor": 5
}
