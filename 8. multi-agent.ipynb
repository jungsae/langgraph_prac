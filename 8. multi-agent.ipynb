{
 "cells": [
  {
   "cell_type": "code",
   "execution_count": 1,
   "id": "baff2e9c",
   "metadata": {},
   "outputs": [
    {
     "data": {
      "text/plain": [
       "True"
      ]
     },
     "execution_count": 1,
     "metadata": {},
     "output_type": "execute_result"
    }
   ],
   "source": [
    "from dotenv import load_dotenv\n",
    "load_dotenv()"
   ]
  },
  {
   "cell_type": "code",
   "execution_count": 2,
   "id": "53735d9e",
   "metadata": {},
   "outputs": [],
   "source": [
    "from langchain_openai import ChatOpenAI\n",
    "\n",
    "llm = ChatOpenAI(\n",
    "    model=\"gpt-5\",\n",
    "    temperature=0.0\n",
    ")\n",
    "\n",
    "sllm = ChatOpenAI(\n",
    "    model='gpt-5-nano-2025-08-07'\n",
    ")"
   ]
  },
  {
   "cell_type": "code",
   "execution_count": 3,
   "id": "4332cbbc",
   "metadata": {},
   "outputs": [],
   "source": [
    "from typing_extensions import TypedDict\n",
    "from langgraph.graph import StateGraph\n",
    "\n",
    "class AgentState(TypedDict):\n",
    "    query: str\n",
    "    context: list\n",
    "    answer: str\n",
    "\n",
    "graph_builder = StateGraph(AgentState)"
   ]
  },
  {
   "cell_type": "code",
   "execution_count": 4,
   "id": "ae12491d",
   "metadata": {},
   "outputs": [],
   "source": [
    "from langchain_core.prompts import ChatPromptTemplate\n",
    "from pydantic import BaseModel, Field\n",
    "from typing import Literal\n",
    "\n",
    "class Route(BaseModel):\n",
    "    target: Literal['income_tax', 'llm', 'real_estate_tax'] = Field(\n",
    "        description=\"The target for the query to answer\"\n",
    "    )\n",
    "\n",
    "router_system_prompt = \"\"\"\n",
    "You are an expert at routing a user's question to 'income_tax', 'llm', or 'real_estate_tax'.\n",
    "'income_tax' contains information about income tax up to December 2024.\n",
    "'real_estate_tax' contains information about real estate tax up to December 2024.\n",
    "if you think the question is not related to either 'income_tax' or 'real_estate_tax';\n",
    "you can route it to 'llm'.\"\"\"\n",
    "\n",
    "\n",
    "router_prompt = ChatPromptTemplate.from_messages([\n",
    "    ('system', router_system_prompt),\n",
    "    ('user', '{query}')\n",
    "])\n",
    "\n",
    "structured_router_llm = sllm.with_structured_output(Route)\n",
    "\n",
    "def router(state: AgentState) -> Literal['income_tax', 'real_estate_tax', 'llm']:\n",
    "    \"\"\"\n",
    "    주어진 state에서 쿼리를 기반으로 적절한 경로를 결정합니다.\n",
    "\n",
    "    Args:\n",
    "        state (AgentState): 현재 에이전트의 state를 나타내는 객체입니다.\n",
    "\n",
    "    Returns:\n",
    "        Literal['income_tax', 'real_estate_tax', 'llm']: 쿼리에 따라 선택된 경로를 반환합니다.\n",
    "    \"\"\"\n",
    "    query = state['query']\n",
    "    router_chain = router_prompt | structured_router_llm \n",
    "    route = router_chain.invoke({'query': query})\n",
    "\n",
    "    print(f'router route == {route}')\n",
    "    print(f'route.target == {route.target}')\n",
    "\n",
    "    return route.target"
   ]
  },
  {
   "cell_type": "code",
   "execution_count": 5,
   "id": "002e6355",
   "metadata": {},
   "outputs": [],
   "source": [
    "from langchain_core.output_parsers import StrOutputParser\n",
    "\n",
    "def call_llm(state: AgentState) -> AgentState:\n",
    "    \"\"\"\n",
    "    주어진 state에서 쿼리를 LLM에 전달하여 응답을 얻습니다.\n",
    "\n",
    "    Args:\n",
    "        state (AgentState): 현재 에이전트의 state를 나타내는 객체입니다.\n",
    "\n",
    "    Returns:\n",
    "        AgentState: 'answer' 키를 포함하는 새로운 state를 반환합니다.\n",
    "    \"\"\"\n",
    "    query = state['query']\n",
    "    llm_chain = sllm | StrOutputParser()\n",
    "    llm_answer = llm_chain.invoke(query)\n",
    "    return {'answer': llm_answer}"
   ]
  },
  {
   "cell_type": "code",
   "execution_count": 6,
   "id": "14c59772",
   "metadata": {},
   "outputs": [
    {
     "name": "stderr",
     "output_type": "stream",
     "text": [
      "c:\\Users\\wjdtp\\OneDrive\\Desktop\\코딩\\langgraph_prac\\real_estate_tax_graph.py:103: LangChainDeprecationWarning: The class `TavilySearchResults` was deprecated in LangChain 0.3.25 and will be removed in 1.0. An updated version of the class exists in the :class:`~langchain-tavily package and should be used instead. To use it run `pip install -U :class:`~langchain-tavily` and import as `from :class:`~langchain_tavily import TavilySearch``.\n",
      "  tavily_search_tool = TavilySearchResults(\n"
     ]
    },
    {
     "data": {
      "text/plain": [
       "<langgraph.graph.state.StateGraph at 0x1f6b3f51890>"
      ]
     },
     "execution_count": 6,
     "metadata": {},
     "output_type": "execute_result"
    }
   ],
   "source": [
    "from income_tax_graph import graph as income_tax_agent\n",
    "from real_estate_tax_graph import graph as real_estate_agent\n",
    "\n",
    "graph_builder.add_node('income_tax', income_tax_agent)\n",
    "graph_builder.add_node('real_estate_tax', real_estate_agent)\n",
    "graph_builder.add_node('llm', call_llm)"
   ]
  },
  {
   "cell_type": "code",
   "execution_count": 7,
   "id": "469a2a4b",
   "metadata": {},
   "outputs": [
    {
     "data": {
      "text/plain": [
       "<langgraph.graph.state.StateGraph at 0x1f6b3f51890>"
      ]
     },
     "execution_count": 7,
     "metadata": {},
     "output_type": "execute_result"
    }
   ],
   "source": [
    "from langgraph.graph import START, END\n",
    "\n",
    "graph_builder.add_conditional_edges(\n",
    "    START,\n",
    "    router,\n",
    "    {\n",
    "        'income_tax': 'income_tax',\n",
    "        'real_estate_tax': 'real_estate_tax',\n",
    "        'llm': 'llm'\n",
    "    }\n",
    ")\n",
    "\n",
    "graph_builder.add_edge('income_tax', END)\n",
    "graph_builder.add_edge('real_estate_tax', END)\n",
    "graph_builder.add_edge('llm', END)"
   ]
  },
  {
   "cell_type": "code",
   "execution_count": 8,
   "id": "6f358377",
   "metadata": {},
   "outputs": [],
   "source": [
    "graph = graph_builder.compile()"
   ]
  },
  {
   "cell_type": "code",
   "execution_count": 9,
   "id": "872498e7",
   "metadata": {},
   "outputs": [
    {
     "data": {
      "image/png": "[encoded data removed]",
      "text/plain": [
       "<IPython.core.display.Image object>"
      ]
     },
     "metadata": {},
     "output_type": "display_data"
    }
   ],
   "source": [
    "from IPython.display import Image, display\n",
    "\n",
    "display(Image(graph.get_graph().draw_mermaid_png()))"
   ]
  },
  {
   "cell_type": "code",
   "execution_count": 13,
   "id": "e1fb3928",
   "metadata": {},
   "outputs": [
    {
     "name": "stdout",
     "output_type": "stream",
     "text": [
      "router route == target='income_tax'\n",
      "route.target == income_tax\n",
      "context: [Document(id='c4dc4bc0-79f7-4274-b0c5-f743de614138', metadata={'source': './documents/income_tax.txt'}, page_content='소득세법\\n[시행 2024. 7. 1.] [법률 제19933호, 2023. 12. 31., 일부개정]\\n기획재정부 (세제실세제과) 044-215-4312\\n기획재정부 (소득세제과) 044-215-4216\\n기획재정부 (음식세원과) 044-215-4233\\n기획재정부 (소득세과사원조사팀) 044-215-4217  \\n\\n제1장 총칙\\n제1조(목적)\\n이 법은 개인의 소득에 대하여 소득의 성격과 납세자의 부담능력 등에 따라 적정하게 과세함으로써 조세부담의 형평을 도모하고 재정수입의 원활한 조달에 이바지함을 목적으로 한다.\\n[본조신설 2009. 12. 31.]\\n[종전 제1조는 제2조로 이동 2009. 12. 31.]\\n제2조(정의)\\n① 이 법에서 사용하는 용어의 뜻은 다음과 같다. <개정 2010. 12. 27, 2014. 12. 23, 2018. 12. 31.>\\n1. \"거주자\"란 국내에 주소를 두거나 183일 이상 거소(居所)를 둔 개인을 말한다.\\n2. \"비거주자\"란 거주자가 아닌 개인을 말한다.\\n3. \"국내법인\"이란 법인세법 제2조제1호에 따른 내국법인을 말한다.\\n4. \"외국법인\"이란 법인세법 제2조제3호에 따른 외국법인을 말한다.\\n5. \"사업자\"란 사업소득이 있는 거주자를 말한다.\\n6. 제1항에 따른 주소·거소와 비거주자의 구분은 대통령령으로 정한다.\\n[본조신설 2009. 12. 31.]\\n제3조(납세의무)\\n다음 각 호의 어느 하나에 해당하는 개인은 이 법에 따라 각자의 소득에 대한 소득세를 납부할 의무를 진다.\\n1. 거주자\\n2. 비거주자\\n3. 법인\\n4. 외국법인은 국내사업소(출場所, 그 밖에 이에 준하는 것을 포함한다. 이하 같다)\\n5. 그 밖에 법에 의해 정하는 원천징수의무자\\n3. \"국세기본법\" 제33조제1항에 따른 법인이 아닌 단체 같은 제정법에 따른 법인은 보는 단체로 본다. \"법인은 보는 단체\"라 한다. 외의 법인이 아닌 단체는 국내에 주사무소 또는 사업의 실질적 관리장소를 두는 경우에는 1거래자로 본다. 그 밖에 각 단체마다 이 법을 적용한다. 다만, 다음 각 호의 어느 하나에 해당하는 경우에는 소득을 법인세법 제5조에 따른 법인 가운데 \"법인세법\"에 의하는 경우에도 법인의 소득세법에 따라 각 부문에 대한 법인의 납부할 의무를 진다. <개정 2010. 12. 27, 2013. 1. 1, 2018. 12. 31.>\\n6. 구성원 중 이의 원천의무를 정해져 있고 해당 구성원별로 이의 분배비율을 확인한 경우\\n7. 구성원 간 이의 분배비율이 정해져 있지 아니하나 사실상 구성원별 이의 분배비율로 확인되는 경우\\n제3항에도 불구하고 해당 단체의 전체 구성원 중 일부 구성원 분배비율이 확인되더라도 일부 구성원에 이의 분배되는 것으로 확인되는 경우에 다음 각 호의 사항에 따라 소득세 또는 법인세를 납부할 의무를 진다. <신설 2018. 12. 31.>\\n\\n법제처 1\\n소통세편'), Document(id='95ce915a-649a-4fa2-b087-1769ee4c8c3a', metadata={'source': './documents/income_tax.txt'}, page_content='소득세법\\n가. 이자소득\\n나. 배당소득\\n다. 사업소득\\n라. 근로소득\\n마. 연금소득\\n바. 기타소득\\n2. 퇴직소득\\n3. 양도소득\\n② 제1항에 따른 소득을 구분할 때 다음 각 호의 신택을 제외한 신택의 이익은 「신탁법」 제2조에 따라 수탁자에게 이전되거나 그 밖에 채권된 재산권에서 발생하는 소득의 내용별로 규분한다. <개정 2011. 7. 25, 2020. 12. 29, 2022. 12. 31.>\\n1. ‘법인세법’ 제5조제12항에 따라 신탁재산에 귀속되는 소득에 대하여 그 신탁의 수탁자가 법인세를 납부하는 신탁\\n2. ‘자본시장과 금융투자업에 관한 법률’ 제9조제18항제1호에 따른 투자신탁. 다만, 2024년 12월 31일까지 이 법 제17조제1항제5호에 따른 집합투자기구로 한정한다.\\n3. ‘자본시장과 금융투자업에 관한 법률’ 제21조제15항에 따른 집합투자업영업보험사의 특별계정\\n③ 비거주자의 소득은 제119조에 따라 규분한다.\\n[법제처 2009. 12. 31.]\\n제42조(소득의 구분) ① 거주자의 소득은 다음 각 호와 같이 구분한다. <개정 2013. 1. 1, 2020. 12. 29.>\\n1. 종합소득\\n이 법에 따라 과세되는 모든 소득에서는 제2호, 제2호의 및 제3호에 따른 소득을 제외한 소득으로서 각 목의 소득을 합산한 것\\n가. 이자소득\\n나. 배당소득\\n다. 사업소득\\n라. 근로소득\\n마. 연금소득\\n바. 기타소득\\n2. 금융투자소득\\n② 제1항에 따른 소득을 구분할 때 다음 각 호의 신택을 제외한 신택의 이익은 「신탁법」 제2조에 따라 수탁자에게 이전되거나 그 밖에 채권된 재산권에서 발생하는 소득의 내용별로 규분한다. <개정 2022. 12. 31.>\\n1. ‘법인세법’ 제5조제12항에 따라 신탁재산에 귀속되는 소득에 대하여 그 신탁의 수탁자가 법인세를 납부하는 신탁\\n2. ‘자본시장과 금융투자업에 관한 법률’ 제9조제18항제1호에 따른 투자신탁. 다만, 2024년 12월 31일까지 이 법 제17조제1항제5호에 따른 집합투자기구로 한정한다.\\n3. ‘자본시장과 금융투자업에 관한 법률’ 제21조제15항에 따른 집합투자업영업보험사의 특별계정\\n③ 비거주자의 소득은 제119조에 따라 규분한다.\\n[시행일: 2025. 1. 1.] 제42조제11항제1호, 제42조제11항제2호에\\n소득세법\\n제 조(과세기간)\\n① 소득세의 과세기간은 1월 1일부터 12월 31일까지 1년으로 한다.\\n② 거주자가 사망한 경우의 과세기간은 1월 1일부터 사망일 날까지로 한다.\\n③ 거주자가 주소 또는 거소를 국외로 이전하는 경우에 비거주자가 되는 경우의 과세기간은 1월 1일부터 촉발한 날까지로 한다.\\n[전문개정 2009. 12. 31.]\\n제 조(납세지)\\n① 거주자의 소득세 납세지는 그 주소지로 한다. 다만, 주소지가 없는 경우에는 그 거소지로 한다.\\n② 비거주자의 소득세 납세지는 제120조에 따른 국내사업장(이하 “국내사업장”이라 한다)의 소재지로 한다. 다만, 국내사업장이 설시 없는 경우에는 주된 국내사업장의 소재지로 하고, 국내사업장이 없는 경우에는 국내연천소득 발생일의 장소로 한다.'), Document(id='81876b18-e473-4280-9d59-718ceeecce4f', metadata={'source': './documents/income_tax.txt'}, page_content='제22조(상세의무의 법칙)\\n① 제43조에 따라 공동사업에 관한 소득세를 계산하는 경우에는 해당 공동사업자별로 납세의무를 진다. 단, 제43조제3항에 따른 주요 공동사업자(이하에 해당하여 \"주된 공동사업자\"라 한다)에 한하여 협의가 되는 경우의 협약상세뻬슈도의 소득세에 대해서는 주된 공동사업자와 특수관계인을 같은 제정하는 단지 선의변례에 해당하는 그의 소득금액을 혼합으로 주된 공동사업자와 면세의무를 진다. <개정 2012. 1. 1, 2013. 1. 1.>\\n② 제44조에 따라 피속임의 소득금액에 대해 상세히 개시하는 경우에는 그 상속인의 면세의무를 진다.\\n제101조제3항에 따른 증여자 기각 사실을 직접 양도하는 것으로 간주하는 경우 그 양도소득에 대한 증여범위는 자신에게 해당하는 면세의무를 진다. <개정 2020. 12. 29.>\\n③ 제127조에 따라 원천징수되는 소득으로 제14조제1항 또는 같은 법률에 대한 제14조제3항에 따라서 면세로 하여야 하는 소득이 없는 소득이 있을 경우에는 원천징수는 소득세에 대한 면세의무를 진다. <개정 2020. 12. 29.>\\n⑤ 공동으로 소환한 자산에 대한 양도소득세를 계산하는 경우에는 해당 자산을 공동으로 소유하는 자 거주자에게 면세의무를 진다. <신설 2017. 12. 19, 2020. 12. 31.>\\n[전문개정 2009. 12. 31]\\n[제20조에서 이동 <2009. 12. 31.>]\\n제23조(신탁재산 귀속 소득에 대한 면세의무의 법칙)\\n① 신탁재산에 귀속되는 소득은 그 신탁의 이익을 받을 수익자(수익자가 상반되는 경우에는 그 상속인에게 귀속되는 것으로 본다.\\n② 제81항에 불구하고 위탁자와 신탁재산을 실질적으로 동일한 요건을 충족하는 신탁의 경우에는 그 신탁재산에 귀속되는 소득은 위탁자에게 귀속되는 것으로 본다. <개정 2023. 12. 31.>\\n[본순서 2023. 12. 29.]\\n제30조(과세소득의 법칙)\\n① 거주자에게는 이 법에서 정하는 모든 소득에 대하여 과세한다. 다만, 법의 제정이 중요한 경우 10년 후 현재 국내에 주소나 거소를 둔 기관의 행페가 5년 이내의 외국거주자에게 과세하는 소득 국외에 서 발생하는 소득이 경우 국내내에 기록되는 국내로 소득에 대하여 과세한다.\\n② 비과세소득에 대해서는 제119조에서 당국을 위해서만관계가 있다.\\n제18조 및 제21항을 적용하는 경우 \"조세제체법제119조 제100조의 14절 조국이계에는 같은 법 제100조의 18제 1항에 따라 배분받는 소득 및 같은 법 제100조의 22제11항에 따라 분배받은 자산 중 사전 분배받는 재산을 초과하여 발생하는 소득에 대하여 과세한다.\\n[전문개정 2009. 12. 31.]\\n제40조(소득의 구분)\\n① 거주자의 소득은 다음 각 호와 같다 구분한다.\\n1. 종합소득\\n이 법에 따라 과세되는 모든 소득에서 제12조 및 제30조에 따른 소득을 제외한 다음각 목의 소득을 합산한 것  \\n소득세법\\n가. 이자소득\\n나. 배당소득\\n다. 사업소득\\n라. 근로소득\\n마. 연금소득\\n바. 기타소득\\n2. 퇴직소득\\n3. 양도소득')]\n",
      "doc_relevance_response: {'Score': 1, 'Explanation': \"The provided facts are relevant to the question 'What is income tax?' because they contain information about the Income Tax Act, which is directly related to the concept of income tax. The documents discuss various aspects of income tax, such as definitions of residents and non-residents, types of income subject to tax (e.g., interest, dividends, business income), tax obligations, and the purpose of the income tax law. These elements are all semantically related to understanding what income tax is, as they provide context and details about how income tax is applied and regulated. Therefore, the facts are relevant to the question, warranting a score of 1.\"}\n",
      "hallucination response: not hallucinated\n",
      "helpfulness response: {'Score': 1, 'Explanation': \"The student's answer is concise and directly addresses the question of what income tax (소득세) is. The answer explains that income tax is a tax levied on an individual's income and is imposed appropriately based on the nature of the income and the taxpayer's ability to pay. It also mentions the purpose of income tax, which is to promote fairness in tax burden and facilitate smooth financial revenue collection. Additionally, the answer lists various types of income that are subject to income tax, such as interest income, dividend income, business income, labor income, pension income, and other income. This comprehensive explanation is relevant and helps to answer the question effectively.\"}\n"
     ]
    },
    {
     "data": {
      "text/plain": [
       "{'query': '소득세란 무엇인가요?',\n",
       " 'context': [Document(id='c4dc4bc0-79f7-4274-b0c5-f743de614138', metadata={'source': './documents/income_tax.txt'}, page_content='소득세법\\n[시행 2024. 7. 1.] [법률 제19933호, 2023. 12. 31., 일부개정]\\n기획재정부 (세제실세제과) 044-215-4312\\n기획재정부 (소득세제과) 044-215-4216\\n기획재정부 (음식세원과) 044-215-4233\\n기획재정부 (소득세과사원조사팀) 044-215-4217  \\n\\n제1장 총칙\\n제1조(목적)\\n이 법은 개인의 소득에 대하여 소득의 성격과 납세자의 부담능력 등에 따라 적정하게 과세함으로써 조세부담의 형평을 도모하고 재정수입의 원활한 조달에 이바지함을 목적으로 한다.\\n[본조신설 2009. 12. 31.]\\n[종전 제1조는 제2조로 이동 2009. 12. 31.]\\n제2조(정의)\\n① 이 법에서 사용하는 용어의 뜻은 다음과 같다. <개정 2010. 12. 27, 2014. 12. 23, 2018. 12. 31.>\\n1. \"거주자\"란 국내에 주소를 두거나 183일 이상 거소(居所)를 둔 개인을 말한다.\\n2. \"비거주자\"란 거주자가 아닌 개인을 말한다.\\n3. \"국내법인\"이란 법인세법 제2조제1호에 따른 내국법인을 말한다.\\n4. \"외국법인\"이란 법인세법 제2조제3호에 따른 외국법인을 말한다.\\n5. \"사업자\"란 사업소득이 있는 거주자를 말한다.\\n6. 제1항에 따른 주소·거소와 비거주자의 구분은 대통령령으로 정한다.\\n[본조신설 2009. 12. 31.]\\n제3조(납세의무)\\n다음 각 호의 어느 하나에 해당하는 개인은 이 법에 따라 각자의 소득에 대한 소득세를 납부할 의무를 진다.\\n1. 거주자\\n2. 비거주자\\n3. 법인\\n4. 외국법인은 국내사업소(출場所, 그 밖에 이에 준하는 것을 포함한다. 이하 같다)\\n5. 그 밖에 법에 의해 정하는 원천징수의무자\\n3. \"국세기본법\" 제33조제1항에 따른 법인이 아닌 단체 같은 제정법에 따른 법인은 보는 단체로 본다. \"법인은 보는 단체\"라 한다. 외의 법인이 아닌 단체는 국내에 주사무소 또는 사업의 실질적 관리장소를 두는 경우에는 1거래자로 본다. 그 밖에 각 단체마다 이 법을 적용한다. 다만, 다음 각 호의 어느 하나에 해당하는 경우에는 소득을 법인세법 제5조에 따른 법인 가운데 \"법인세법\"에 의하는 경우에도 법인의 소득세법에 따라 각 부문에 대한 법인의 납부할 의무를 진다. <개정 2010. 12. 27, 2013. 1. 1, 2018. 12. 31.>\\n6. 구성원 중 이의 원천의무를 정해져 있고 해당 구성원별로 이의 분배비율을 확인한 경우\\n7. 구성원 간 이의 분배비율이 정해져 있지 아니하나 사실상 구성원별 이의 분배비율로 확인되는 경우\\n제3항에도 불구하고 해당 단체의 전체 구성원 중 일부 구성원 분배비율이 확인되더라도 일부 구성원에 이의 분배되는 것으로 확인되는 경우에 다음 각 호의 사항에 따라 소득세 또는 법인세를 납부할 의무를 진다. <신설 2018. 12. 31.>\\n\\n법제처 1\\n소통세편'),\n",
       "  Document(id='95ce915a-649a-4fa2-b087-1769ee4c8c3a', metadata={'source': './documents/income_tax.txt'}, page_content='소득세법\\n가. 이자소득\\n나. 배당소득\\n다. 사업소득\\n라. 근로소득\\n마. 연금소득\\n바. 기타소득\\n2. 퇴직소득\\n3. 양도소득\\n② 제1항에 따른 소득을 구분할 때 다음 각 호의 신택을 제외한 신택의 이익은 「신탁법」 제2조에 따라 수탁자에게 이전되거나 그 밖에 채권된 재산권에서 발생하는 소득의 내용별로 규분한다. <개정 2011. 7. 25, 2020. 12. 29, 2022. 12. 31.>\\n1. ‘법인세법’ 제5조제12항에 따라 신탁재산에 귀속되는 소득에 대하여 그 신탁의 수탁자가 법인세를 납부하는 신탁\\n2. ‘자본시장과 금융투자업에 관한 법률’ 제9조제18항제1호에 따른 투자신탁. 다만, 2024년 12월 31일까지 이 법 제17조제1항제5호에 따른 집합투자기구로 한정한다.\\n3. ‘자본시장과 금융투자업에 관한 법률’ 제21조제15항에 따른 집합투자업영업보험사의 특별계정\\n③ 비거주자의 소득은 제119조에 따라 규분한다.\\n[법제처 2009. 12. 31.]\\n제42조(소득의 구분) ① 거주자의 소득은 다음 각 호와 같이 구분한다. <개정 2013. 1. 1, 2020. 12. 29.>\\n1. 종합소득\\n이 법에 따라 과세되는 모든 소득에서는 제2호, 제2호의 및 제3호에 따른 소득을 제외한 소득으로서 각 목의 소득을 합산한 것\\n가. 이자소득\\n나. 배당소득\\n다. 사업소득\\n라. 근로소득\\n마. 연금소득\\n바. 기타소득\\n2. 금융투자소득\\n② 제1항에 따른 소득을 구분할 때 다음 각 호의 신택을 제외한 신택의 이익은 「신탁법」 제2조에 따라 수탁자에게 이전되거나 그 밖에 채권된 재산권에서 발생하는 소득의 내용별로 규분한다. <개정 2022. 12. 31.>\\n1. ‘법인세법’ 제5조제12항에 따라 신탁재산에 귀속되는 소득에 대하여 그 신탁의 수탁자가 법인세를 납부하는 신탁\\n2. ‘자본시장과 금융투자업에 관한 법률’ 제9조제18항제1호에 따른 투자신탁. 다만, 2024년 12월 31일까지 이 법 제17조제1항제5호에 따른 집합투자기구로 한정한다.\\n3. ‘자본시장과 금융투자업에 관한 법률’ 제21조제15항에 따른 집합투자업영업보험사의 특별계정\\n③ 비거주자의 소득은 제119조에 따라 규분한다.\\n[시행일: 2025. 1. 1.] 제42조제11항제1호, 제42조제11항제2호에\\n소득세법\\n제 조(과세기간)\\n① 소득세의 과세기간은 1월 1일부터 12월 31일까지 1년으로 한다.\\n② 거주자가 사망한 경우의 과세기간은 1월 1일부터 사망일 날까지로 한다.\\n③ 거주자가 주소 또는 거소를 국외로 이전하는 경우에 비거주자가 되는 경우의 과세기간은 1월 1일부터 촉발한 날까지로 한다.\\n[전문개정 2009. 12. 31.]\\n제 조(납세지)\\n① 거주자의 소득세 납세지는 그 주소지로 한다. 다만, 주소지가 없는 경우에는 그 거소지로 한다.\\n② 비거주자의 소득세 납세지는 제120조에 따른 국내사업장(이하 “국내사업장”이라 한다)의 소재지로 한다. 다만, 국내사업장이 설시 없는 경우에는 주된 국내사업장의 소재지로 하고, 국내사업장이 없는 경우에는 국내연천소득 발생일의 장소로 한다.'),\n",
       "  Document(id='81876b18-e473-4280-9d59-718ceeecce4f', metadata={'source': './documents/income_tax.txt'}, page_content='제22조(상세의무의 법칙)\\n① 제43조에 따라 공동사업에 관한 소득세를 계산하는 경우에는 해당 공동사업자별로 납세의무를 진다. 단, 제43조제3항에 따른 주요 공동사업자(이하에 해당하여 \"주된 공동사업자\"라 한다)에 한하여 협의가 되는 경우의 협약상세뻬슈도의 소득세에 대해서는 주된 공동사업자와 특수관계인을 같은 제정하는 단지 선의변례에 해당하는 그의 소득금액을 혼합으로 주된 공동사업자와 면세의무를 진다. <개정 2012. 1. 1, 2013. 1. 1.>\\n② 제44조에 따라 피속임의 소득금액에 대해 상세히 개시하는 경우에는 그 상속인의 면세의무를 진다.\\n제101조제3항에 따른 증여자 기각 사실을 직접 양도하는 것으로 간주하는 경우 그 양도소득에 대한 증여범위는 자신에게 해당하는 면세의무를 진다. <개정 2020. 12. 29.>\\n③ 제127조에 따라 원천징수되는 소득으로 제14조제1항 또는 같은 법률에 대한 제14조제3항에 따라서 면세로 하여야 하는 소득이 없는 소득이 있을 경우에는 원천징수는 소득세에 대한 면세의무를 진다. <개정 2020. 12. 29.>\\n⑤ 공동으로 소환한 자산에 대한 양도소득세를 계산하는 경우에는 해당 자산을 공동으로 소유하는 자 거주자에게 면세의무를 진다. <신설 2017. 12. 19, 2020. 12. 31.>\\n[전문개정 2009. 12. 31]\\n[제20조에서 이동 <2009. 12. 31.>]\\n제23조(신탁재산 귀속 소득에 대한 면세의무의 법칙)\\n① 신탁재산에 귀속되는 소득은 그 신탁의 이익을 받을 수익자(수익자가 상반되는 경우에는 그 상속인에게 귀속되는 것으로 본다.\\n② 제81항에 불구하고 위탁자와 신탁재산을 실질적으로 동일한 요건을 충족하는 신탁의 경우에는 그 신탁재산에 귀속되는 소득은 위탁자에게 귀속되는 것으로 본다. <개정 2023. 12. 31.>\\n[본순서 2023. 12. 29.]\\n제30조(과세소득의 법칙)\\n① 거주자에게는 이 법에서 정하는 모든 소득에 대하여 과세한다. 다만, 법의 제정이 중요한 경우 10년 후 현재 국내에 주소나 거소를 둔 기관의 행페가 5년 이내의 외국거주자에게 과세하는 소득 국외에 서 발생하는 소득이 경우 국내내에 기록되는 국내로 소득에 대하여 과세한다.\\n② 비과세소득에 대해서는 제119조에서 당국을 위해서만관계가 있다.\\n제18조 및 제21항을 적용하는 경우 \"조세제체법제119조 제100조의 14절 조국이계에는 같은 법 제100조의 18제 1항에 따라 배분받는 소득 및 같은 법 제100조의 22제11항에 따라 분배받은 자산 중 사전 분배받는 재산을 초과하여 발생하는 소득에 대하여 과세한다.\\n[전문개정 2009. 12. 31.]\\n제40조(소득의 구분)\\n① 거주자의 소득은 다음 각 호와 같다 구분한다.\\n1. 종합소득\\n이 법에 따라 과세되는 모든 소득에서 제12조 및 제30조에 따른 소득을 제외한 다음각 목의 소득을 합산한 것  \\n소득세법\\n가. 이자소득\\n나. 배당소득\\n다. 사업소득\\n라. 근로소득\\n마. 연금소득\\n바. 기타소득\\n2. 퇴직소득\\n3. 양도소득')],\n",
       " 'answer': '소득세는 개인의 소득에 대해 과세하는 세금으로, 소득의 성격과 납세자의 부담 능력에 따라 적정하게 부과됩니다. 이는 조세 부담의 형평성을 도모하고 재정 수입의 원활한 조달에 기여하는 것을 목적으로 합니다. 소득세는 이자소득, 배당소득, 사업소득, 근로소득, 연금소득, 기타소득 등 다양한 소득 유형에 대해 부과됩니다.'}"
      ]
     },
     "execution_count": 13,
     "metadata": {},
     "output_type": "execute_result"
    }
   ],
   "source": [
    "initial_state = {'query': '소득세란 무엇인가요?'} # by gpt-4o\n",
    "graph.invoke(initial_state)"
   ]
  },
  {
   "cell_type": "code",
   "execution_count": 14,
   "id": "40afd79b",
   "metadata": {},
   "outputs": [
    {
     "name": "stdout",
     "output_type": "stream",
     "text": [
      "router route == target='real_estate_tax'\n",
      "route.target == real_estate_tax\n"
     ]
    },
    {
     "data": {
      "text/plain": [
       "{'query': '집 15억은 세금을 얼마나 내나요?',\n",
       " 'answer': '요약(가정)\\n- 공시가격 합계 = 15억 원, 공정시장가액비율 r = 60% (질문에 주신 값)\\n- 과세표준은 이미 계산하신 값 사용:\\n  1) 1세대1주택자: 과세표준 T = 180,000,000원  \\n  2) 그 외(개인, 2주택 이하 가정): T = 360,000,000원  \\n  3) 법인(기본공제 6억 가정): T = 540,000,000원\\n- 추가 가정: 주택분 종합부동산세 산출에는 “납세의무자가 2주택 이하인 개인”용 누진세율표(문서 첫 표)를 적용(법인별도 요율 표가 명시적이지 않아 개인 요율로 계산). 재산세 공제는 미반영(재산세를 알려주시면 공제 반영 가능).\\n\\n계산(주택분 종합부동산세 산출세액)\\n1) 1세대1주택자 (T = 180,000,000원, 과세표준 3억 이하 구간: 0.5%)\\n- 세액 = 180,000,000 × 0.005 = 900,000원\\n\\n2) 그 외 개인 (T = 360,000,000원, 과세표준 3억 초과~6억 이하 구간)\\n- 기본액 = 1,500,000원 + (초과액 60,000,000원 × 0.007)\\n- 초과분 세액 = 60,000,000 × 0.007 = 420,000원\\n- 세액 합계 = 1,500,000 + 420,000 = 1,920,000원\\n\\n3) 법인 (T = 540,000,000원, 위와 동일 구간(3억~6억) 적용 가정)\\n- 초과액 = 540,000,000 − 300,000,000 = 240,000,000원\\n- 초과분 세액 = 240,000,000 × 0.007 = 1,680,000원\\n- 세액 합계 = 1,500,000 + 1,680,000 = 3,180,000원\\n\\n주의 및 다음 단계\\n- 위 금액들은 주택분 종합부동산세의 “산출세액(계산된 종부세)”입니다. 실제 납부세액 = 산출세액 − (해당 주택에 부과된 주택분 재산세액)입니다. 재산세 공제가 적용되므로 이미 낸 재산세가 있으면 알려주시면 최종 금액을 계산해 드립니다.\\n- 소유주가 3주택 이상이거나 법인에게 적용되는 별도(높은) 세율이 적용되어야 하는 경우 결과가 달라집니다. (3주택 이상 또는 법인용 세율 적용을 원하시면 그 사실을 알려 주세요.)\\n- 공정시장가액비율(r)을 80% 등으로 변경하면 과세표준이 달라져 세액도 변합니다. 다른 r로 계산 원하시면 알려 주세요.\\n\\n원하시면 (1) 귀하의 정확한 소유주 상태(1주택 / 2~3주택 / 법인), (2) 이미 낸 주택분 재산세액, (3) r 변경 여부를 알려주시면 최종 납부세액까지 계산해 드리겠습니다.'}"
      ]
     },
     "execution_count": 14,
     "metadata": {},
     "output_type": "execute_result"
    }
   ],
   "source": [
    "initial_state = {'query': '집 15억은 세금을 얼마나 내나요?'} #by gpt-5-mini\n",
    "graph.invoke(initial_state)"
   ]
  },
  {
   "cell_type": "code",
   "execution_count": 12,
   "id": "1959bf50",
   "metadata": {},
   "outputs": [
    {
     "name": "stdout",
     "output_type": "stream",
     "text": [
      "router route == target='llm'\n",
      "route.target == llm\n"
     ]
    },
    {
     "data": {
      "text/plain": [
       "{'query': '강남 텐동은 어디가 맛있나요?',\n",
       " 'answer': '좋아요! 강남에 텐동 맛집이 많아서 취향에 따라 추천이 달라져요. 몇 가지 정보를 알려주시면 더 정확하게 맞춰드릴 수 있어요.\\n\\n먼저 간단한 질문\\n- 예산대는 어떤가요? (1인당 대략 8,000–12,000원 선 vs 15,000원 이상 등)\\n- 분위기? 캐주얼/데이트용/술 안주가 가능해야 하나요?\\n- 위치 선호가 있나요? 예: 강남역, 역삼역, 신사동, 청담동 등\\n- 포장이나 배달 여부도 중요한가요?\\n- 특정 재료(새우 텐동, 카레 텐동 등)나 알레르기/선호가 있나요?\\n\\n원하시면 지금 바로 최신 정보를 검색해 5~7곳의 후보를 골라\\n- 이름, 주소, 대략의 가격대\\n- 특징 포인트(바삭함 정도, 소스 맛, 토핑, 공간 분위기)\\n- 방문 팁(주차, 대기 시간, 예약 필요 여부)\\n까지 정리해 드릴게요. 어떤 취향으로 찾고 계신지 알려주시면 바로 시작하겠습니다.'}"
      ]
     },
     "execution_count": 12,
     "metadata": {},
     "output_type": "execute_result"
    }
   ],
   "source": [
    "initial_state = {'query': '강남 텐동은 어디가 맛있나요?'}\n",
    "graph.invoke(initial_state)"
   ]
  }
 ],
 "metadata": {
  "kernelspec": {
   "display_name": "langchain-basic",
   "language": "python",
   "name": "python3"
  },
  "language_info": {
   "codemirror_mode": {
    "name": "ipython",
    "version": 3
   },
   "file_extension": ".py",
   "mimetype": "text/x-python",
   "name": "python",
   "nbconvert_exporter": "python",
   "pygments_lexer": "ipython3",
   "version": "3.11.13"
  }
 },
 "nbformat": 4,
 "nbformat_minor": 5
}
